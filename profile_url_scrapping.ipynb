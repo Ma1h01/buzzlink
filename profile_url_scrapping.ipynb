{
  "cells": [
    {
      "cell_type": "markdown",
      "metadata": {
        "colab_type": "text",
        "id": "view-in-github"
      },
      "source": [
        "<a href=\"https://colab.research.google.com/github/11bender/alumni-scraping/blob/main/alumni_scraping.ipynb\" target=\"_parent\"><img src=\"https://colab.research.google.com/assets/colab-badge.svg\" alt=\"Open In Colab\"/></a>"
      ]
    },
    {
      "cell_type": "markdown",
      "metadata": {
        "id": "e4o5x1rcDZTN"
      },
      "source": [
        "# **Scrape Georiga Tech alumni LinkedIn profile URLs from your connections**"
      ]
    },
    {
      "cell_type": "markdown",
      "metadata": {
        "id": "ey244w-0IGEF"
      },
      "source": [
        "### Import, install, and download browser driver"
      ]
    },
    {
      "cell_type": "code",
      "execution_count": null,
      "metadata": {
        "id": "ar8V45wcM1UC"
      },
      "outputs": [],
      "source": [
        "!pip install selenium"
      ]
    },
    {
      "cell_type": "markdown",
      "metadata": {
        "id": "3njnmPBgSKIg"
      },
      "source": [
        "Download Google Chrome Drive : https://developer.chrome.com/docs/chromedriver/downloads"
      ]
    },
    {
      "cell_type": "code",
      "execution_count": 1,
      "metadata": {
        "id": "UQC8uAXpM1UO"
      },
      "outputs": [],
      "source": [
        "import os, random, sys, time \n",
        "from selenium import webdriver\n",
        "from selenium.webdriver.chrome.service import Service\n",
        "from selenium.webdriver.chrome.options import Options\n",
        "from selenium.webdriver.common.by import By\n",
        "from selenium.webdriver.common.action_chains import ActionChains\n",
        "from selenium.webdriver.common.keys import Keys\n",
        "import csv\n",
        "import pandas as pd\n",
        "\n",
        "from merge_urls import merge_urls"
      ]
    },
    {
      "cell_type": "markdown",
      "metadata": {},
      "source": [
        "Create a `config.txt` and add your LinkedIn username at **1st** line and your password at the **2nd** line."
      ]
    },
    {
      "cell_type": "markdown",
      "metadata": {},
      "source": [
        "### Start scraping"
      ]
    },
    {
      "cell_type": "markdown",
      "metadata": {},
      "source": [
        "Settings that make code less detectable by anti-scrape bot"
      ]
    },
    {
      "cell_type": "code",
      "execution_count": null,
      "metadata": {
        "id": "0wNcDYdXM1UQ"
      },
      "outputs": [],
      "source": [
        "USER_AGENTS = [\n",
        "    \"Mozilla/5.0 (Windows NT 10.0; Win64; x64) AppleWebKit/537.36 (KHTML, like Gecko) Chrome/120.0.0.0 Safari/537.36\",\n",
        "    \"Mozilla/5.0 (Macintosh; Intel Mac OS X 10_15_7) AppleWebKit/537.36 (KHTML, like Gecko) Chrome/118.0.0.0 Safari/537.36\",\n",
        "    \"Mozilla/5.0 (X11; Linux x86_64) AppleWebKit/537.36 (KHTML, like Gecko) Chrome/121.0.0.0 Safari/537.36\",\n",
        "]\n",
        "driver_path = \"D:/chromedriver-win64/chromedriver.exe\"\n",
        "options = Options()\n",
        "options.add_argument(f\"user-agent={random.choice(USER_AGENTS)}\")  # Rotate User-Agent\n",
        "options.add_argument(\"--disable-blink-features=AutomationControlled\")  # Hide WebDriver Flag\n",
        "options.add_experimental_option(\"excludeSwitches\", [\"enable-automation\"])  # Disable automation flags\n",
        "options.add_experimental_option(\"useAutomationExtension\", False)\n",
        "\n",
        "\n",
        "service = Service(driver_path)\n",
        "browser = webdriver.Chrome(service=service)\n",
        "\n",
        "# Remove navigator.webdriver property\n",
        "browser.execute_script(\"Object.defineProperty(navigator, 'webdriver', {get: () => undefined})\")"
      ]
    },
    {
      "cell_type": "markdown",
      "metadata": {},
      "source": [
        "Go to LinkedIn Login page"
      ]
    },
    {
      "cell_type": "code",
      "execution_count": null,
      "metadata": {
        "id": "j0vzjIqHM1UQ"
      },
      "outputs": [],
      "source": [
        "browser.get(\"https://www.linkedin.com/login/\")\n",
        "time.sleep(random.uniform(2, 4))"
      ]
    },
    {
      "cell_type": "markdown",
      "metadata": {
        "id": "ohCMsepaLXvM"
      },
      "source": [
        "Read in account info and login"
      ]
    },
    {
      "cell_type": "code",
      "execution_count": null,
      "metadata": {
        "id": "vRkPx_FRM1UR"
      },
      "outputs": [],
      "source": [
        "file = open(\"config.txt\")\n",
        "line = file.readlines()\n",
        "username = line[0]\n",
        "password = line[1]\n",
        "\n",
        "elementID = browser.find_element(By.ID, 'username')\n",
        "elementID.send_keys(username)\n",
        "time.sleep(random.uniform(1, 3))\n",
        "elementID = browser.find_element(By.ID,'password')\n",
        "elementID.send_keys(password)\n",
        "time.sleep(random.uniform(1, 2))\n",
        "# elementID.submit()\n",
        "# time.sleep(random.uniform(5, 7))"
      ]
    },
    {
      "cell_type": "markdown",
      "metadata": {},
      "source": [
        "Define helper functions to scrape profile URLs"
      ]
    },
    {
      "cell_type": "code",
      "execution_count": null,
      "metadata": {},
      "outputs": [],
      "source": [
        "def human_like_scroll(driver, scroll_pause=(1,3)):\n",
        "    \"\"\"\n",
        "    Scrolls the page in small random increments to simulate human behavior.\n",
        "    scroll_pause is a tuple (min, max) for random pause times.\n",
        "    \"\"\"\n",
        "    current_height = driver.execute_script(\"return window.pageYOffset;\")\n",
        "    total_height = driver.execute_script(\"return document.body.scrollHeight;\")\n",
        "\n",
        "    while current_height < total_height:\n",
        "        # Random step size between 200 and 600 px\n",
        "        scroll_step = random.randint(200, 600)\n",
        "        current_height += scroll_step\n",
        "\n",
        "        driver.execute_script(f\"window.scrollTo(0, {current_height});\")\n",
        "        time.sleep(random.uniform(*scroll_pause))  # short random pause to mimic reading\n",
        "\n",
        "        # Update total_height if page loads more content on scroll\n",
        "        new_total_height = driver.execute_script(\"return document.body.scrollHeight;\")\n",
        "        if new_total_height > total_height:\n",
        "            total_height = new_total_height\n",
        "\n",
        "def get_all_links(browser, output_csv):\n",
        "\tcollected_links = set()   \n",
        "\t# XPATH for <a> tags that start with \"https://www.linkedin.com/in/\"\n",
        "\tprofile_xpath = \"//div[@class='display-flex align-items-center']//a[starts-with(@href, 'https://www.linkedin.com/in/')]\"\n",
        "\t# XPATH for the 'Next' button\n",
        "\tnext_button_xpath = \"//button[@aria-label='Next']\" \n",
        " \n",
        "\twhile True:\n",
        "\t\t# SCROLL DOWN THE PAGE LIKE A HUMAN\n",
        "\t\thuman_like_scroll(browser, scroll_pause=(1,3)) \n",
        "\t\t# COLLECT ALL AVAILABLE LINKS\n",
        "\t\tanchor_elements = browser.find_elements(By.XPATH, profile_xpath)\n",
        "\t\t# Extract href from each element\n",
        "\t\tfor anchor in anchor_elements:\n",
        "\t\t\thref_value = anchor.get_attribute(\"href\")\n",
        "\t\t\thref_value = href_value.split(\"?\")[0]  # Remove query string\n",
        "\t\t\tif href_value in collected_links:\n",
        "\t\t\t\tprint(f\"Duplicate link found: {href_value}\")\n",
        "\t\t\telse:\n",
        "\t\t\t\tcollected_links.add(href_value)\n",
        "\n",
        "\t\t# CHECK IF 'NEXT' BUTTON EXISTS & CLICK IT\n",
        "\t\ttry:\n",
        "\t\t\tnext_button = browser.find_element(By.XPATH, next_button_xpath)\n",
        "\t\t\tif next_button.is_enabled():\n",
        "\t\t\t\tnext_button.click()\n",
        "\t\t\t\ttime.sleep(random.uniform(2, 3))\n",
        "\t\t\telse:\n",
        "\t\t\t\tprint(\"Next button found but not clickable. Exiting loop.\")\n",
        "\t\t\t\tbreak\n",
        "\t\texcept:\n",
        "\t\t\tprint(\"Next button not found or not clickable. Exiting loop.\")\n",
        "\t\t\tbreak\n",
        "\n",
        "\t# SAVE RESULTS TO CSV\n",
        "\tcsv_filename = output_csv\n",
        "\twith open(csv_filename, mode=\"w\", newline=\"\", encoding=\"utf-8\") as f:\n",
        "\t\twriter = csv.writer(f)\n",
        "\t\twriter.writerow([\"url\"])\n",
        "\t\tfor link in collected_links:\n",
        "\t\t\twriter.writerow([link])\n",
        "\n",
        "\tprint(f\"Saved {len(collected_links)} links to '{csv_filename}'.\")"
      ]
    },
    {
      "cell_type": "markdown",
      "metadata": {},
      "source": [
        "Go to 1st connection"
      ]
    },
    {
      "cell_type": "code",
      "execution_count": null,
      "metadata": {},
      "outputs": [],
      "source": [
        "connection_url = \"https://www.linkedin.com/mynetwork/invite-connect/connections/\"\n",
        "browser.get(connection_url)\n",
        "time.sleep(random.uniform(3, 6))\n",
        "\n",
        "search_with_filters_ele = browser.find_element(By.XPATH, '//a[contains(@href, \"/search/results/people/\") and @class=\"ember-view mn-connections__search-with-filters link-without-visited-state\"]')\n",
        "search_with_filters_ele.click()\n",
        "time.sleep(random.uniform(3, 6))\n",
        "\n",
        "all_filters_ele = browser.find_element(By.XPATH, '//button[text()=\"All filters\"]')\n",
        "all_filters_ele.click()\n",
        "time.sleep(random.uniform(3, 6))\n",
        "\n",
        "gt_check_box = browser.find_element(By.XPATH, '//ul[@class=\"list-style-none flex-1\"]//fieldset[h3[text()=\"School\"]]//label[.//span[text()=\"Georgia Institute of Technology\"]]')\n",
        "ActionChains(browser).move_to_element(gt_check_box).perform()\n",
        "time.sleep(1)\n",
        "gt_check_box.click()\n",
        "\n",
        "\n",
        "apply_filters_ele = browser.find_element(By.XPATH, '//button[@aria-label=\"Apply current filters to show results\"]')\n",
        "time.sleep(random.uniform(3, 5))\n",
        "apply_filters_ele.click()\n"
      ]
    },
    {
      "cell_type": "markdown",
      "metadata": {},
      "source": [
        "Start collecting 1st degree connection URLs"
      ]
    },
    {
      "cell_type": "code",
      "execution_count": null,
      "metadata": {},
      "outputs": [],
      "source": [
        "get_all_links(browser, \"profile_urls_1st.csv\")"
      ]
    },
    {
      "cell_type": "markdown",
      "metadata": {},
      "source": [
        "Go to your 2nd connection"
      ]
    },
    {
      "cell_type": "code",
      "execution_count": null,
      "metadata": {},
      "outputs": [],
      "source": [
        "sec_deg_ele = browser.find_element(By.XPATH, '//ul[@class=\"inline-flex list-style-none search-reusables__multiselect-pill-list\"]//li//button[@aria-label=\"2nd\"]')\n",
        "sec_deg_ele.click()\n",
        "time.sleep(random.uniform(3, 4))\n",
        "first_deg_ele = browser.find_element(By.XPATH, '//ul[@class=\"inline-flex list-style-none search-reusables__multiselect-pill-list\"]//li//button[@aria-label=\"1st\"]')\n",
        "first_deg_ele.click()\n",
        "time.sleep(random.uniform(3, 4))"
      ]
    },
    {
      "cell_type": "markdown",
      "metadata": {},
      "source": [
        "Start collecting 2nd degree connection URLs"
      ]
    },
    {
      "cell_type": "code",
      "execution_count": null,
      "metadata": {},
      "outputs": [],
      "source": [
        "get_all_links(browser, \"profile_urls_2nd.csv\")"
      ]
    },
    {
      "cell_type": "markdown",
      "metadata": {},
      "source": [
        "Go to your 3rd+ connections"
      ]
    },
    {
      "cell_type": "code",
      "execution_count": null,
      "metadata": {},
      "outputs": [],
      "source": [
        "third_p_deg_ele = browser.find_element(By.XPATH, '//ul[@class=\"inline-flex list-style-none search-reusables__multiselect-pill-list\"]//li//button[@aria-label=\"3rd+\"]')\n",
        "third_p_deg_ele.click()\n",
        "time.sleep(random.uniform(3, 4))\n",
        "sec_deg_ele = browser.find_element(By.XPATH, '//ul[@class=\"inline-flex list-style-none search-reusables__multiselect-pill-list\"]//li//button[@aria-label=\"2nd\"]')\n",
        "sec_deg_ele.click()\n",
        "time.sleep(random.uniform(3, 4))"
      ]
    },
    {
      "cell_type": "markdown",
      "metadata": {},
      "source": [
        "Start collecting 3rd+ degree connection URLs"
      ]
    },
    {
      "cell_type": "code",
      "execution_count": null,
      "metadata": {},
      "outputs": [],
      "source": [
        "get_all_links(browser, \"profile_urls_3rd+.csv\")"
      ]
    },
    {
      "cell_type": "markdown",
      "metadata": {},
      "source": [
        "Quit the browser"
      ]
    },
    {
      "cell_type": "code",
      "execution_count": null,
      "metadata": {},
      "outputs": [],
      "source": [
        "browser.quit()"
      ]
    },
    {
      "cell_type": "markdown",
      "metadata": {},
      "source": [
        "### Merge all URL CSVs into one final CSV and remove any duplciates"
      ]
    },
    {
      "cell_type": "code",
      "execution_count": 2,
      "metadata": {},
      "outputs": [
        {
          "name": "stdout",
          "output_type": "stream",
          "text": [
            "Final CSV file length: 2202\n"
          ]
        }
      ],
      "source": [
        "merge_urls(\"profile_urls_1st.csv\", \"profile_urls_2nd.csv\", \"profile_urls_3rd+.csv\")"
      ]
    }
  ],
  "metadata": {
    "colab": {
      "collapsed_sections": [],
      "include_colab_link": true,
      "name": "alumni_scraping.ipynb",
      "provenance": []
    },
    "kernelspec": {
      "display_name": "base",
      "language": "python",
      "name": "python3"
    },
    "language_info": {
      "codemirror_mode": {
        "name": "ipython",
        "version": 3
      },
      "file_extension": ".py",
      "mimetype": "text/x-python",
      "name": "python",
      "nbconvert_exporter": "python",
      "pygments_lexer": "ipython3",
      "version": "3.12.9"
    }
  },
  "nbformat": 4,
  "nbformat_minor": 0
}
